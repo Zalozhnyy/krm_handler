{
 "cells": [
  {
   "cell_type": "code",
   "execution_count": 1,
   "outputs": [],
   "source": [
    "import matplotlib.pyplot as plt\n",
    "import numpy as np\n",
    "from numba import jit\n",
    "from create_grd_files import read_time_grid\n",
    "import os\n",
    "from typing import List, Tuple\n",
    "from matplotlib.ticker import FormatStrFormatter\n",
    "\n",
    "from itertools import chain"
   ],
   "metadata": {
    "collapsed": false,
    "pycharm": {
     "name": "#%%\n"
    }
   }
  },
  {
   "cell_type": "code",
   "execution_count": null,
   "outputs": [],
   "source": [
    "plt.rcParams[\"figure.figsize\"] = (20, 9)\n"
   ],
   "metadata": {
    "collapsed": false,
    "pycharm": {
     "name": "#%%\n"
    }
   }
  },
  {
   "cell_type": "code",
   "execution_count": null,
   "outputs": [],
   "source": [
    "%%time\n",
    "project_path = r'D:\\remp_projects\\mhd_krmkrm_full10'\n",
    "data = read_time_grid(os.path.join(project_path, \"project_krm\", 'setka.txt'))\n",
    "len(data)"
   ],
   "metadata": {
    "collapsed": false,
    "pycharm": {
     "name": "#%%\n"
    }
   }
  },
  {
   "cell_type": "code",
   "execution_count": null,
   "outputs": [],
   "source": [
    "index_from = 1\n",
    "index_to = len(data)\n",
    "step = 1\n",
    "\n",
    "slice_data = data[index_from:index_to:step]\n",
    "len(slice_data)"
   ],
   "metadata": {
    "collapsed": false,
    "pycharm": {
     "name": "#%%\n"
    }
   }
  },
  {
   "cell_type": "code",
   "execution_count": null,
   "outputs": [],
   "source": [
    "\n",
    "def get_cmap(n, name='hsv'):\n",
    "    '''Returns a function that maps each index in 0, 1, ..., n-1 to a distinct\n",
    "    RGB color; the keyword argument name must be a standard mpl colormap name.'''\n",
    "    return plt.cm.get_cmap(name, n)\n",
    "\n",
    "\n",
    "y = [item[0] for item in data]\n",
    "cmap = get_cmap(max(y))\n",
    "\n",
    "\n",
    "def scatter_plot(local_data, ax, x_lims, y_lims, y_log):\n",
    "    _x_max = max([max(i[1]) for i in local_data])\n",
    "    _x_min = min([min(i[1]) for i in local_data])\n",
    "    _y_max = max([i[0] for i in local_data])\n",
    "    _y_min = min([i[0] for i in local_data])\n",
    "\n",
    "    if x_lims:\n",
    "        ax.set_xlim([x_lims[0] if x_lims[0] else _x_min, x_lims[1] if x_lims[1] else _x_max * 1.05])\n",
    "    else:\n",
    "        ax.set_xlim([_x_min, _x_max * 1.05])\n",
    "\n",
    "    if y_lims:\n",
    "        ax.set_ylim([y_lims[0] if y_lims[0] else _y_min, y_lims[1] if y_lims[1] else _y_max * 1.05])\n",
    "    else:\n",
    "        ax.set_ylim([_y_min, _y_max * 1.05])\n",
    "\n",
    "    for i, (time, arr) in enumerate(local_data):\n",
    "        ax.scatter(arr, [time for _ in range(len(arr))])\n",
    "\n",
    "    ax.grid(which='minor')\n",
    "    if y_log:\n",
    "        ax.set_yscale('log')\n",
    "\n",
    "    ax.tick_params(axis='y', which='minor')\n",
    "\n",
    "    ax.yaxis.set_minor_formatter(FormatStrFormatter(\"%.4e\"))\n",
    "\n",
    "\n",
    "def _plot(_data, x_lims=None, y_lims=None, y_log=True):\n",
    "    fig, ax1 = plt.subplots(1)\n",
    "    scatter_plot(_data, ax1, x_lims, y_lims, y_log)\n",
    "    plt.show()\n",
    "\n"
   ],
   "metadata": {
    "collapsed": false,
    "pycharm": {
     "name": "#%%\n"
    }
   }
  },
  {
   "cell_type": "code",
   "execution_count": null,
   "outputs": [],
   "source": [
    "_plot(slice_data, y_lims=[0, 1e-2])\n"
   ],
   "metadata": {
    "collapsed": false,
    "pycharm": {
     "name": "#%%\n"
    }
   }
  },
  {
   "cell_type": "code",
   "execution_count": null,
   "outputs": [],
   "source": [
    "%%time\n",
    "\n",
    "standard_deviation = 0.05\n",
    "max_grid = max([len(arr) for time, arr in slice_data])\n",
    "times = set()\n",
    "times.add(slice_data[0][0])\n",
    "times.add(slice_data[-1][0])\n",
    "\n",
    "# for i in range(1, max_grid):\n",
    "#     local_slice = [item for item in slice_data if len(item[1]) > i]\n",
    "#     # local_slice = slice_data\n",
    "local_slice = slice_data\n",
    "value = sum(local_slice[0][1]) / len(local_slice[0][1])\n",
    "value_diff = value * standard_deviation\n",
    "\n",
    "for j in range(1, len(slice_data)):\n",
    "    time, arr = slice_data[j]\n",
    "    # arr = arr[:i + 1]\n",
    "    avg = sum(arr) / len(arr)\n",
    "\n",
    "    if abs(avg - value) > value_diff:\n",
    "        times.add(time)\n",
    "\n",
    "        value, value_diff = avg, avg * standard_deviation\n",
    "\n",
    "print(len(times))\n",
    "strict_data = [item for item in slice_data if item[0] in times]"
   ],
   "metadata": {
    "collapsed": false,
    "pycharm": {
     "name": "#%%\n"
    }
   }
  },
  {
   "cell_type": "code",
   "execution_count": null,
   "outputs": [],
   "source": [
    "\n",
    "_plot(strict_data)\n"
   ],
   "metadata": {
    "collapsed": false,
    "pycharm": {
     "name": "#%%\n"
    }
   }
  },
  {
   "cell_type": "code",
   "execution_count": null,
   "outputs": [],
   "source": [
    "fig, ax = plt.subplots(1)\n",
    "ax.ticklabel_format(style='sci', scilimits=(0, 0), axis='x', useMathText=True)\n",
    "ax.xaxis.major.formatter._useMathText = True\n",
    "\n",
    "ax.hist([time for time in times if 1e-6 < time < 1e-4], bins=20)\n",
    "ax.grid(which='both')\n",
    "\n",
    "plt.show()"
   ],
   "metadata": {
    "collapsed": false,
    "pycharm": {
     "name": "#%%\n"
    }
   }
  },
  {
   "cell_type": "code",
   "execution_count": null,
   "outputs": [],
   "source": [
    "_min, _max = 1e-6, 1e-5\n",
    "len([time for time, arr in slice_data if _min < time < _max])"
   ],
   "metadata": {
    "collapsed": false,
    "pycharm": {
     "name": "#%%\n"
    }
   }
  },
  {
   "cell_type": "code",
   "execution_count": null,
   "outputs": [],
   "source": [
    "def get_grids_from_batch(batch:List) -> np.ndarray:\n",
    "    return np.array([item[1] for item in batch])\n",
    "\n",
    "def merge_grid(grid_list: np.ndarray, relative_barrier: float) -> List:\n",
    "\n",
    "    raw_data = np.unique(np.concatenate(grid_list))\n",
    "    raw_data.sort()\n",
    "\n",
    "    output = [raw_data[0], raw_data[1]]\n",
    "    last_distance = raw_data[1] - raw_data[0]\n",
    "    prev = raw_data[1]\n",
    "\n",
    "    for i in range(2, len(raw_data) - 1):\n",
    "\n",
    "        current_distance = raw_data[i] - prev\n",
    "\n",
    "        if current_distance > last_distance * relative_barrier:\n",
    "            output.append(raw_data[i])\n",
    "            prev = raw_data[i]\n",
    "\n",
    "    output.append(raw_data[-1])\n",
    "\n",
    "    return output\n"
   ],
   "metadata": {
    "collapsed": false,
    "pycharm": {
     "name": "#%%\n"
    }
   }
  },
  {
   "cell_type": "code",
   "execution_count": null,
   "outputs": [],
   "source": [
    "def recursive_merge(l: int, r: int, diff:float, data: List, results: List):\n",
    "\n",
    "    if l == r:\n",
    "        results.append(data[r])\n",
    "        # raise Exception(\"Too small max grid count\")\n",
    "        return\n",
    "\n",
    "    tmp_merge = merge_grid(get_grids_from_batch(data[l:r]), diff)\n",
    "\n",
    "    if len(tmp_merge) < max_grid_count:\n",
    "        time = data[r][0]\n",
    "        results.append([time, tmp_merge])\n",
    "        return\n",
    "\n",
    "    else:\n",
    "        m = (l + r) // 2\n",
    "        recursive_merge(l, m - 1, diff, data, results)\n",
    "        recursive_merge(m, r, diff, data, results)\n"
   ],
   "metadata": {
    "collapsed": false,
    "pycharm": {
     "name": "#%%\n"
    }
   }
  },
  {
   "cell_type": "code",
   "execution_count": null,
   "outputs": [],
   "source": [
    "%%time\n",
    "print(len(slice_data))\n",
    "start_batch, filtered_batch = [], []\n",
    "max_grid_count = 0\n",
    "\n",
    "for time, arr in slice_data:\n",
    "    max_grid_count = max(max_grid_count, len(arr))\n",
    "    if time > 1e-6:\n",
    "        filtered_batch.append([time, np.array(arr)])\n",
    "    else:\n",
    "        start_batch.append([time, np.array(arr)])\n",
    "max_grid_count"
   ],
   "metadata": {
    "collapsed": false,
    "pycharm": {
     "name": "#%%\n"
    }
   }
  },
  {
   "cell_type": "code",
   "execution_count": null,
   "outputs": [],
   "source": [
    "%%time\n",
    "\n",
    "merged = [[1e-6, merge_grid(get_grids_from_batch(start_batch), 0.05)]]\n",
    "max_grid_count = max_grid_count * 2\n",
    "\n",
    "print(f'max_grid_count = {max_grid_count}')\n",
    "diff = 0.1\n",
    "recursive_merge(0, len(filtered_batch) - 1, diff, filtered_batch, merged)\n",
    "\n",
    "represent = [(time, len(gr)) for time, gr in merged]\n",
    "print(f'{len(filtered_batch)} merged to {len(merged)}')\n",
    "# print(*represent, sep='\\n')"
   ],
   "metadata": {
    "collapsed": false,
    "pycharm": {
     "name": "#%%\n"
    }
   }
  },
  {
   "cell_type": "code",
   "execution_count": null,
   "outputs": [],
   "source": [
    "_plot(merged, x_lims=[0, 20000])"
   ],
   "metadata": {
    "collapsed": false,
    "pycharm": {
     "name": "#%%\n"
    }
   }
  },
  {
   "cell_type": "code",
   "execution_count": null,
   "outputs": [],
   "source": [
    "a = merge_grid(get_grids_from_batch(merged), 0.05)\n",
    "\n",
    "print(len(a))\n",
    "plt.scatter(a, [0 for _ in range(len(a))])"
   ],
   "metadata": {
    "collapsed": false,
    "pycharm": {
     "name": "#%%\n"
    }
   }
  },
  {
   "cell_type": "code",
   "execution_count": null,
   "outputs": [],
   "source": [
    "def recursive_merge(l: int, r: int, diff:float, data: List, results: List):\n",
    "\n",
    "    if l == r:\n",
    "        results.append(data[r])\n",
    "        # raise Exception(\"Too small max grid count\")\n",
    "        return\n",
    "\n",
    "    tmp_merge = merge_grid(get_grids_from_batch(data[l:r]), diff)\n",
    "\n",
    "    if len(tmp_merge) < max_grid_count:\n",
    "        time = data[r][0]\n",
    "        results.append([time, tmp_merge])\n",
    "        return\n",
    "\n",
    "    else:\n",
    "        m = (l + r) // 2\n",
    "        recursive_merge(l, m - 1, diff, data, results)\n",
    "        recursive_merge(m, r, diff, data, results)\n"
   ],
   "metadata": {
    "collapsed": false,
    "pycharm": {
     "name": "#%%\n"
    }
   }
  },
  {
   "cell_type": "code",
   "execution_count": null,
   "outputs": [],
   "source": [
    "%%time\n",
    "print(len(slice_data))\n",
    "start_batch, filtered_batch = [], []\n",
    "max_grid_count = 0\n",
    "\n",
    "for time, arr in slice_data:\n",
    "    max_grid_count = max(max_grid_count, len(arr))\n",
    "    if time > 1e-6:\n",
    "        filtered_batch.append([time, np.array(arr)])\n",
    "    else:\n",
    "        start_batch.append([time, np.array(arr)])\n",
    "max_grid_count"
   ],
   "metadata": {
    "collapsed": false,
    "pycharm": {
     "name": "#%%\n"
    }
   }
  },
  {
   "cell_type": "code",
   "execution_count": null,
   "outputs": [],
   "source": [
    "%%time\n",
    "\n",
    "merged = [[1e-6, merge_grid(get_grids_from_batch(start_batch), 0.05)]]\n",
    "max_grid_count = max_grid_count * 2\n",
    "\n",
    "print(f'max_grid_count = {max_grid_count}')\n",
    "diff = 0.1\n",
    "recursive_merge(0, len(filtered_batch) - 1, diff, filtered_batch, merged)\n",
    "\n",
    "represent = [(time, len(gr)) for time, gr in merged]\n",
    "print(f'{len(filtered_batch)} merged to {len(merged)}')\n",
    "# print(*represent, sep='\\n')"
   ],
   "metadata": {
    "collapsed": false,
    "pycharm": {
     "name": "#%%\n"
    }
   }
  },
  {
   "cell_type": "code",
   "execution_count": null,
   "outputs": [],
   "source": [
    "_plot(merged)"
   ],
   "metadata": {
    "collapsed": false,
    "pycharm": {
     "name": "#%%\n"
    }
   }
  },
  {
   "cell_type": "code",
   "execution_count": null,
   "outputs": [],
   "source": [
    "a = merge_grid(get_grids_from_batch(merged), 0.05)\n",
    "\n",
    "print(len(a))\n",
    "plt.scatter(a, [0 for _ in range(len(a))])"
   ],
   "metadata": {
    "collapsed": false,
    "pycharm": {
     "name": "#%%\n"
    }
   }
  },
  {
   "cell_type": "code",
   "execution_count": null,
   "outputs": [],
   "source": [
    "%%time\n",
    "\n",
    "def recursive_merge(l: int, r: int, diff:float, data: List, results: List):\n",
    "\n",
    "    if l == r:\n",
    "        results.append(data[r])\n",
    "        # raise Exception(\"Too small max grid count\")\n",
    "        return\n",
    "\n",
    "    tmp_merge = merge_grid(data[l:r], diff)\n",
    "\n",
    "    if len(tmp_merge) < max_grid_count:\n",
    "        time = data[r][0]\n",
    "        results.append([time, tmp_merge])\n",
    "        return\n",
    "\n",
    "    else:\n",
    "        m = (l + r) // 2\n",
    "        recursive_merge(l, m - 1, diff, data, results)\n",
    "        recursive_merge(m, r, diff, data, results)\n",
    "\n",
    "\n",
    "start_batch = [item for item in slice_data if 0 < item[0] < 1e-6]\n",
    "filtered_batch = [item for item in slice_data if item[0] > 1e-6]\n",
    "\n",
    "merged = [[1e-6, merge_grid(start_batch, 0.05)]]\n",
    "\n",
    "max_grid_count = max([len(arr) for time, arr in filtered_batch]) * 2\n",
    "print(f'max_grid_count = {max_grid_count}')\n",
    "diff = 0.015\n",
    "recursive_merge(0, len(filtered_batch) - 1, diff, filtered_batch, merged)\n",
    "\n",
    "represent = [(time, len(gr)) for time, gr in merged]\n",
    "print(f'{len(filtered_batch)} merged to {len(merged)}')\n",
    "# print(*represent, sep='\\n')\n",
    "_plot(merged, x_lims=[0, 60000], y_lims=[1e-2, None], y_log=True)"
   ],
   "metadata": {
    "collapsed": false,
    "pycharm": {
     "name": "#%%\n"
    }
   }
  },
  {
   "cell_type": "code",
   "execution_count": null,
   "outputs": [],
   "source": [
    "%%time\n",
    "print(len(slice_data))\n",
    "start_batch, filtered_batch = [], []\n",
    "max_grid_count = 0\n",
    "\n",
    "for time, arr in slice_data:\n",
    "    max_grid_count = max(max_grid_count, len(arr))\n",
    "    if time > 1e-6:\n",
    "        filtered_batch.append([time, np.array(arr)])\n",
    "    else:\n",
    "        start_batch.append([time, np.array(arr)])\n",
    "max_grid_count"
   ],
   "metadata": {
    "collapsed": false,
    "pycharm": {
     "name": "#%%\n"
    }
   }
  },
  {
   "cell_type": "code",
   "execution_count": null,
   "outputs": [],
   "source": [
    "%%time\n",
    "\n",
    "merged = [[1e-6, merge_grid(get_grids_from_batch(start_batch), 0.05)]]\n",
    "max_grid_count = max_grid_count * 2\n",
    "\n",
    "print(f'max_grid_count = {max_grid_count}')\n",
    "diff = 0.1\n",
    "recursive_merge(0, len(filtered_batch) - 1, diff, filtered_batch, merged)\n",
    "\n",
    "represent = [(time, len(gr)) for time, gr in merged]\n",
    "print(f'{len(filtered_batch)} merged to {len(merged)}')\n",
    "# print(*represent, sep='\\n')"
   ],
   "metadata": {
    "collapsed": false,
    "pycharm": {
     "name": "#%%\n"
    }
   }
  },
  {
   "cell_type": "code",
   "execution_count": null,
   "outputs": [],
   "source": [
    "_plot(merged)"
   ],
   "metadata": {
    "collapsed": false,
    "pycharm": {
     "name": "#%%\n"
    }
   }
  },
  {
   "cell_type": "code",
   "execution_count": null,
   "outputs": [],
   "source": [
    "a = merge_grid(get_grids_from_batch(merged), 0.05)\n",
    "\n",
    "print(len(a))\n",
    "plt.scatter(a, [0 for _ in range(len(a))])"
   ],
   "metadata": {
    "collapsed": false,
    "pycharm": {
     "name": "#%%\n"
    }
   }
  },
  {
   "cell_type": "code",
   "execution_count": null,
   "outputs": [],
   "source": [
    "%%time\n",
    "\n",
    "def recursive_merge(l: int, r: int, diff:float, data: List, results: List):\n",
    "\n",
    "    if l == r:\n",
    "        results.append(data[r])\n",
    "        # raise Exception(\"Too small max grid count\")\n",
    "        return\n",
    "\n",
    "    tmp_merge = merge_grid(data[l:r], diff)\n",
    "\n",
    "    if len(tmp_merge) < max_grid_count:\n",
    "        time = data[r][0]\n",
    "        results.append([time, tmp_merge])\n",
    "        return\n",
    "\n",
    "    else:\n",
    "        m = (l + r) // 2\n",
    "        recursive_merge(l, m - 1, diff, data, results)\n",
    "        recursive_merge(m, r, diff, data, results)\n",
    "\n",
    "\n",
    "start_batch = [item for item in slice_data if 0 < item[0] < 1e-6]\n",
    "filtered_batch = [item for item in slice_data if item[0] > 1e-6]\n",
    "\n",
    "merged = [[1e-6, merge_grid(start_batch, 0.05)]]\n",
    "\n",
    "max_grid_count = max([len(arr) for time, arr in filtered_batch]) * 2\n",
    "print(f'max_grid_count = {max_grid_count}')\n",
    "diff = 0.015\n",
    "recursive_merge(0, len(filtered_batch) - 1, diff, filtered_batch, merged)\n",
    "\n",
    "represent = [(time, len(gr)) for time, gr in merged]\n",
    "print(f'{len(filtered_batch)} merged to {len(merged)}')\n",
    "# print(*represent, sep='\\n')\n",
    "_plot(merged, x_lims=[0, 60000], y_lims=[1e-2, None], y_log=True)"
   ],
   "metadata": {
    "collapsed": false,
    "pycharm": {
     "name": "#%%\n"
    }
   }
  },
  {
   "cell_type": "code",
   "execution_count": null,
   "outputs": [],
   "source": [
    "%%time\n",
    "print(len(slice_data))\n",
    "start_batch, filtered_batch = [], []\n",
    "max_grid_count = 0\n",
    "\n",
    "for time, arr in slice_data:\n",
    "    max_grid_count = max(max_grid_count, len(arr))\n",
    "    if time > 1e-6:\n",
    "        filtered_batch.append([time, np.array(arr)])\n",
    "    else:\n",
    "        start_batch.append([time, np.array(arr)])\n",
    "max_grid_count"
   ],
   "metadata": {
    "collapsed": false,
    "pycharm": {
     "name": "#%%\n"
    }
   }
  },
  {
   "cell_type": "code",
   "execution_count": null,
   "outputs": [],
   "source": [
    "%%time\n",
    "\n",
    "merged = [[1e-6, merge_grid(get_grids_from_batch(start_batch), 0.05)]]\n",
    "max_grid_count = max_grid_count * 2\n",
    "\n",
    "print(f'max_grid_count = {max_grid_count}')\n",
    "diff = 0.1\n",
    "recursive_merge(0, len(filtered_batch) - 1, diff, filtered_batch, merged)\n",
    "\n",
    "represent = [(time, len(gr)) for time, gr in merged]\n",
    "print(f'{len(filtered_batch)} merged to {len(merged)}')\n",
    "# print(*represent, sep='\\n')"
   ],
   "metadata": {
    "collapsed": false,
    "pycharm": {
     "name": "#%%\n"
    }
   }
  },
  {
   "cell_type": "code",
   "execution_count": null,
   "outputs": [],
   "source": [
    "_plot(merged)"
   ],
   "metadata": {
    "collapsed": false,
    "pycharm": {
     "name": "#%%\n"
    }
   }
  },
  {
   "cell_type": "code",
   "execution_count": null,
   "outputs": [],
   "source": [
    "a = merge_grid(get_grids_from_batch(merged), 0.05)\n",
    "\n",
    "print(len(a))\n",
    "plt.scatter(a, [0 for _ in range(len(a))])"
   ],
   "metadata": {
    "collapsed": false,
    "pycharm": {
     "name": "#%%\n"
    }
   }
  },
  {
   "cell_type": "code",
   "execution_count": null,
   "outputs": [],
   "source": [
    "%%time\n",
    "\n",
    "def recursive_merge(l: int, r: int, diff:float, data: List, results: List):\n",
    "\n",
    "    if l == r:\n",
    "        results.append(data[r])\n",
    "        # raise Exception(\"Too small max grid count\")\n",
    "        return\n",
    "\n",
    "    tmp_merge = merge_grid(data[l:r], diff)\n",
    "\n",
    "    if len(tmp_merge) < max_grid_count:\n",
    "        time = data[r][0]\n",
    "        results.append([time, tmp_merge])\n",
    "        return\n",
    "\n",
    "    else:\n",
    "        m = (l + r) // 2\n",
    "        recursive_merge(l, m - 1, diff, data, results)\n",
    "        recursive_merge(m, r, diff, data, results)\n",
    "\n",
    "\n",
    "start_batch = [item for item in slice_data if 0 < item[0] < 1e-6]\n",
    "filtered_batch = [item for item in slice_data if item[0] > 1e-6]\n",
    "\n",
    "merged = [[1e-6, merge_grid(start_batch, 0.05)]]\n",
    "\n",
    "max_grid_count = max([len(arr) for time, arr in filtered_batch]) * 2\n",
    "print(f'max_grid_count = {max_grid_count}')\n",
    "diff = 0.015\n",
    "recursive_merge(0, len(filtered_batch) - 1, diff, filtered_batch, merged)\n",
    "\n",
    "represent = [(time, len(gr)) for time, gr in merged]\n",
    "print(f'{len(filtered_batch)} merged to {len(merged)}')\n",
    "# print(*represent, sep='\\n')\n",
    "_plot(merged, x_lims=[0, 60000], y_lims=[1e-2, None], y_log=True)"
   ],
   "metadata": {
    "collapsed": false,
    "pycharm": {
     "name": "#%%\n"
    }
   }
  },
  {
   "cell_type": "code",
   "execution_count": null,
   "outputs": [],
   "source": [
    "a = merge_grid(merged, 0.05)\n",
    "\n",
    "print(len(a))\n",
    "plt.scatter(a, [0 for _ in range(len(a))])"
   ],
   "metadata": {
    "collapsed": false,
    "pycharm": {
     "name": "#%%\n"
    }
   }
  },
  {
   "cell_type": "code",
   "execution_count": 161,
   "outputs": [
    {
     "name": "stderr",
     "output_type": "stream",
     "text": [
      "C:\\Users\\niczz\\AppData\\Local\\Temp\\ipykernel_2056\\2921566779.py:2: VisibleDeprecationWarning: Creating an ndarray from ragged nested sequences (which is a list-or-tuple of lists-or-tuples-or ndarrays with different lengths or shapes) is deprecated. If you meant to do this, you must specify 'dtype=object' when creating the ndarray.\n",
      "  return np.array([item[1] for item in batch])\n"
     ]
    },
    {
     "name": "stdout",
     "output_type": "stream",
     "text": [
      "max_grid_count = 92\n",
      "170056 merged to 13\n",
      "CPU times: total: 13.6 s\n",
      "Wall time: 13.6 s\n"
     ]
    }
   ],
   "source": [
    "%%time\n",
    "\n",
    "merged = [[1e-6, merge_grid(get_grids_from_batch(start_batch), 0.05)]]\n",
    "max_grid_count = max_grid_count * 2\n",
    "\n",
    "print(f'max_grid_count = {max_grid_count}')\n",
    "diff = 0.1\n",
    "recursive_merge(0, len(filtered_batch) - 1, diff, filtered_batch, merged)\n",
    "\n",
    "represent = [(time, len(gr)) for time, gr in merged]\n",
    "print(f'{len(filtered_batch)} merged to {len(merged)}')\n",
    "# print(*represent, sep='\\n')"
   ],
   "metadata": {
    "collapsed": false,
    "pycharm": {
     "name": "#%%\n"
    }
   }
  },
  {
   "cell_type": "code",
   "execution_count": 162,
   "outputs": [
    {
     "data": {
      "text/plain": "<Figure size 2016x648 with 1 Axes>",
      "image/png": "[encoded data removed]"
     },
     "metadata": {
      "needs_background": "light"
     },
     "output_type": "display_data"
    }
   ],
   "source": [
    "_plot(merged)"
   ],
   "metadata": {
    "collapsed": false,
    "pycharm": {
     "name": "#%%\n"
    }
   }
  },
  {
   "cell_type": "code",
   "execution_count": 168,
   "outputs": [
    {
     "name": "stdout",
     "output_type": "stream",
     "text": [
      "488\n"
     ]
    },
    {
     "name": "stderr",
     "output_type": "stream",
     "text": [
      "C:\\Users\\niczz\\AppData\\Local\\Temp\\ipykernel_2056\\2921566779.py:2: VisibleDeprecationWarning: Creating an ndarray from ragged nested sequences (which is a list-or-tuple of lists-or-tuples-or ndarrays with different lengths or shapes) is deprecated. If you meant to do this, you must specify 'dtype=object' when creating the ndarray.\n",
      "  return np.array([item[1] for item in batch])\n"
     ]
    },
    {
     "data": {
      "text/plain": "<matplotlib.collections.PathCollection at 0x1541320aee0>"
     },
     "execution_count": 168,
     "metadata": {},
     "output_type": "execute_result"
    },
    {
     "data": {
      "text/plain": "<Figure size 2016x648 with 1 Axes>",
      "image/png": "[encoded data removed]"
     },
     "metadata": {
      "needs_background": "light"
     },
     "output_type": "display_data"
    }
   ],
   "source": [
    "a = merge_grid(get_grids_from_batch(merged), 0.05)\n",
    "\n",
    "print(len(a))\n",
    "plt.scatter(a, [0 for _ in range(len(a))])"
   ],
   "metadata": {
    "collapsed": false,
    "pycharm": {
     "name": "#%%\n"
    }
   }
  },
  {
   "cell_type": "code",
   "execution_count": 19,
   "outputs": [
    {
     "name": "stdout",
     "output_type": "stream",
     "text": [
      "max_grid_count = 96\n",
      "51516 merged to 33\n"
     ]
    },
    {
     "data": {
      "text/plain": "<Figure size 2160x648 with 1 Axes>",
      "image/png": "[encoded data removed]"
     },
     "metadata": {
      "needs_background": "light"
     },
     "output_type": "display_data"
    },
    {
     "name": "stdout",
     "output_type": "stream",
     "text": [
      "Wall time: 6.13 s\n"
     ]
    }
   ],
   "source": [
    "%%time\n",
    "\n",
    "def recursive_merge(l: int, r: int, diff:float, data: List, results: List):\n",
    "\n",
    "    if l == r:\n",
    "        results.append(data[r])\n",
    "        # raise Exception(\"Too small max grid count\")\n",
    "        return\n",
    "\n",
    "    tmp_merge = merge_grid(data[l:r], diff)\n",
    "\n",
    "    if len(tmp_merge) < max_grid_count:\n",
    "        time = data[r][0]\n",
    "        results.append([time, tmp_merge])\n",
    "        return\n",
    "\n",
    "    else:\n",
    "        m = (l + r) // 2\n",
    "        recursive_merge(l, m - 1, diff, data, results)\n",
    "        recursive_merge(m, r, diff, data, results)\n",
    "\n",
    "\n",
    "start_batch = [item for item in slice_data if 0 < item[0] < 1e-6]\n",
    "filtered_batch = [item for item in slice_data if item[0] > 1e-6]\n",
    "\n",
    "merged = [[1e-6, merge_grid(start_batch, 0.05)]]\n",
    "\n",
    "max_grid_count = max([len(arr) for time, arr in filtered_batch]) * 2\n",
    "print(f'max_grid_count = {max_grid_count}')\n",
    "diff = 0.015\n",
    "recursive_merge(0, len(filtered_batch) - 1, diff, filtered_batch, merged)\n",
    "\n",
    "represent = [(time, len(gr)) for time, gr in merged]\n",
    "print(f'{len(filtered_batch)} merged to {len(merged)}')\n",
    "# print(*represent, sep='\\n')\n",
    "_plot(merged, x_lims=[0, 60000], y_lims=[1e-2, None], y_log=True)"
   ],
   "metadata": {
    "collapsed": false,
    "pycharm": {
     "name": "#%%\n"
    }
   }
  },
  {
   "cell_type": "code",
   "execution_count": 32,
   "outputs": [
    {
     "name": "stdout",
     "output_type": "stream",
     "text": [
      "173\n"
     ]
    },
    {
     "data": {
      "text/plain": "<matplotlib.collections.PathCollection at 0x22ecd60e488>"
     },
     "execution_count": 32,
     "metadata": {},
     "output_type": "execute_result"
    },
    {
     "data": {
      "text/plain": "<Figure size 2160x648 with 1 Axes>",
      "image/png": "[encoded data removed]"
     },
     "metadata": {
      "needs_background": "light"
     },
     "output_type": "display_data"
    }
   ],
   "source": [
    "a = merge_grid(merged, 0.05)\n",
    "\n",
    "print(len(a))\n",
    "plt.scatter(a, [0 for _ in range(len(a))])"
   ],
   "metadata": {
    "collapsed": false,
    "pycharm": {
     "name": "#%%\n"
    }
   }
  }
 ],
 "metadata": {
  "kernelspec": {
   "display_name": "Python 3",
   "language": "python",
   "name": "python3"
  },
  "language_info": {
   "codemirror_mode": {
    "name": "ipython",
    "version": 2
   },
   "file_extension": ".py",
   "mimetype": "text/x-python",
   "name": "python",
   "nbconvert_exporter": "python",
   "pygments_lexer": "ipython2",
   "version": "2.7.6"
  }
 },
 "nbformat": 4,
 "nbformat_minor": 0
}